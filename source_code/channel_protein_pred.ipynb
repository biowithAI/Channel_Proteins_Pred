{
 "cells": [
  {
   "cell_type": "code",
   "execution_count": 33,
   "id": "933a1092",
   "metadata": {},
   "outputs": [],
   "source": [
    "#importing libaries\n",
    "import os\n",
    "import re\n",
    "import numpy as np\n",
    "import pathlib\n",
    "import torch\n",
    "from esm import FastaBatchedDataset, pretrained\n",
    "import xgboost as xgb"
   ]
  },
  {
   "cell_type": "code",
   "execution_count": 34,
   "id": "7feb730a",
   "metadata": {},
   "outputs": [],
   "source": [
    "#extraction of embeddings for protein sequences\n",
    "def extract_embeddings(model_name, fasta_file, output_dir, tokens_per_batch=4096, seq_length=8000,repr_layers=[36]):\n",
    "    \n",
    "    model, alphabet = pretrained.load_model_and_alphabet(model_name)\n",
    "    model.eval()\n",
    "\n",
    "    if torch.cuda.is_available():\n",
    "        model = model.cuda()\n",
    "        \n",
    "    dataset = FastaBatchedDataset.from_file(fasta_file)\n",
    "    batches = dataset.get_batch_indices(tokens_per_batch, extra_toks_per_seq=1)\n",
    "\n",
    "    data_loader = torch.utils.data.DataLoader(\n",
    "        dataset, \n",
    "        collate_fn=alphabet.get_batch_converter(seq_length), \n",
    "        batch_sampler=batches\n",
    "    )\n",
    "\n",
    "    output_dir.mkdir(parents=True, exist_ok=True)\n",
    "    filenames = []  \n",
    "    with torch.no_grad():\n",
    "        for batch_idx, (labels, strs, toks) in enumerate(data_loader):\n",
    "\n",
    "            print(f'Processing batch {batch_idx + 1} of {len(batches)}')\n",
    "\n",
    "            if torch.cuda.is_available():\n",
    "                toks = toks.to(device=\"cuda\", non_blocking=True)\n",
    "\n",
    "            out = model(toks, repr_layers=repr_layers, return_contacts=False)\n",
    "\n",
    "            logits = out[\"logits\"].to(device=\"cpu\")\n",
    "            representations = {layer: t.to(device=\"cpu\") for layer, t in out[\"representations\"].items()}\n",
    "            \n",
    "            for i, label in enumerate(labels):\n",
    "                entry_id = label.split()[0]\n",
    "                filename = output_dir / f\"{entry_id}.pt\"\n",
    "                filenames.append(filename)  \n",
    "                truncate_len = min(seq_length, len(strs[i]))\n",
    "\n",
    "                result = {\"entry_id\": entry_id}\n",
    "                result[\"mean_representations\"] = {\n",
    "                        layer: t[i, 1 : truncate_len + 1].mean(0).clone()\n",
    "                        for layer, t in representations.items()\n",
    "                    }\n",
    "\n",
    "                torch.save(result, filename)\n",
    "    return filenames "
   ]
  },
  {
   "cell_type": "code",
   "execution_count": 40,
   "id": "ffc22526",
   "metadata": {},
   "outputs": [
    {
     "name": "stdout",
     "output_type": "stream",
     "text": [
      "Processing batch 1 of 2\n",
      "Processing batch 2 of 2\n"
     ]
    },
    {
     "data": {
      "text/plain": [
       "[WindowsPath('Channel_Protein_Pred/embeddings/1.pt'),\n",
       " WindowsPath('Channel_Protein_Pred/embeddings/3.pt'),\n",
       " WindowsPath('Channel_Protein_Pred/embeddings/2.pt'),\n",
       " WindowsPath('Channel_Protein_Pred/embeddings/4.pt')]"
      ]
     },
     "execution_count": 40,
     "metadata": {},
     "output_type": "execute_result"
    }
   ],
   "source": [
    "\n",
    "# Define paths\n",
    "model_path_with_extension = 'C:/Users/Ahmed/.cache/torch/hub/checkpoints/esm2_t36_3B_UR50D.pt'\n",
    "model_path_without_extension = 'esm2_t36_3B_UR50D'\n",
    "\n",
    "# Check if the esm2 model file exist\n",
    "if os.path.exists(model_path_with_extension):\n",
    "    model_name = model_path_with_extension\n",
    "else:\n",
    "    model_name = model_path_without_extension\n",
    "\n",
    "# Define the other paths\n",
    "fasta_file = pathlib.Path('Channel_Protein_Pred/input_sequence/input_sequence.fasta')\n",
    "output_dir = pathlib.Path('Channel_Protein_Pred/embeddings/')\n",
    "\n",
    "# Call the function\n",
    "extract_embeddings(model_name, fasta_file, output_dir)\n"
   ]
  },
  {
   "cell_type": "code",
   "execution_count": 39,
   "id": "b06e275a",
   "metadata": {},
   "outputs": [
    {
     "name": "stdout",
     "output_type": "stream",
     "text": [
      "1\t1.pt\tNon-Channel Protein \n",
      "2\t2.pt\tNon-Channel Protein \n",
      "3\t3.pt\tChannel Protein     \n",
      "4\t4.pt\tNon-Channel Protein \n"
     ]
    }
   ],
   "source": [
    "import os\n",
    "import re\n",
    "import xgboost as xgb\n",
    "import numpy as np\n",
    "import torch\n",
    "from sklearn.metrics import accuracy_score, roc_auc_score, confusion_matrix, roc_curve\n",
    "import matplotlib.pyplot as plt\n",
    "\n",
    "def load_protein_representations(folder_path, files):\n",
    "    queryproteinrep = []\n",
    "    for file_name in files:\n",
    "        rep_changes = torch.load(os.path.join(folder_path, file_name))['mean_representations'][36]\n",
    "        queryproteinrep.append(rep_changes.tolist())\n",
    "    return torch.Tensor(queryproteinrep)\n",
    "\n",
    "folder_path_test = 'Channel_Protein_Pred/embeddings/'\n",
    "files_test = sorted(os.listdir(folder_path_test), key=lambda x: int(re.match(r'(\\d+)', x).group(1)))\n",
    "test_query_rep = load_protein_representations(folder_path_test, files_test)\n",
    "test_data = test_query_rep.numpy()\n",
    "\n",
    "# Load the model\n",
    "loaded_model = xgb.XGBClassifier()\n",
    "model_filename = 'Channel_Protein_Pred/model/xgboost_model.json'\n",
    "loaded_model.load_model(model_filename)\n",
    "\n",
    "# Make predictions \n",
    "test_predictions = loaded_model.predict(test_data)\n",
    "\n",
    "\n",
    "for i, (header, prediction) in enumerate(zip(files_test, test_predictions), 1):\n",
    "    channel_status = \"Channel Protein\" if prediction == 1 else \"Non-Channel Protein\"\n",
    "    print(f\"{i}\\t{header}\\t{channel_status:<20}\")\n"
   ]
  },
  {
   "cell_type": "code",
   "execution_count": null,
   "id": "7ab3ca94",
   "metadata": {},
   "outputs": [],
   "source": []
  }
 ],
 "metadata": {
  "kernelspec": {
   "display_name": "Python 3 (ipykernel)",
   "language": "python",
   "name": "python3"
  },
  "language_info": {
   "codemirror_mode": {
    "name": "ipython",
    "version": 3
   },
   "file_extension": ".py",
   "mimetype": "text/x-python",
   "name": "python",
   "nbconvert_exporter": "python",
   "pygments_lexer": "ipython3",
   "version": "3.10.13"
  }
 },
 "nbformat": 4,
 "nbformat_minor": 5
}
